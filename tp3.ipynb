{
  "cells": [
    {
      "cell_type": "markdown",
      "metadata": {
        "id": "view-in-github",
        "colab_type": "text"
      },
      "source": [
        "<a href=\"https://colab.research.google.com/github/MohammedBelfellah/python_for_GIS/blob/main/tp3.ipynb\" target=\"_parent\"><img src=\"https://colab.research.google.com/assets/colab-badge.svg\" alt=\"Open In Colab\"/></a>"
      ]
    },
    {
      "cell_type": "code",
      "execution_count": 28,
      "id": "90d261cc",
      "metadata": {
        "colab": {
          "base_uri": "https://localhost:8080/"
        },
        "id": "90d261cc",
        "outputId": "422f7de4-a5c4-4bc1-cc51-a4cfbd2386c5"
      },
      "outputs": [
        {
          "output_type": "execute_result",
          "data": {
            "text/plain": [
              "[['Depot', 33.5731, -7.5898],\n",
              " ['Client A', 33.5899, -7.6039],\n",
              " ['Client B', 33.5735, -7.6467],\n",
              " ['Client C', 33.61, -7.53]]"
            ]
          },
          "metadata": {},
          "execution_count": 28
        }
      ],
      "source": [
        "                                            # Tp 3 : Fonctions\n",
        "                                            #belfellah mohammed\n",
        "\n",
        "# Exercice 1 : Représentation et affichage des données spatiales\n",
        "# On représente chaque point géographique par une liste contenant :\n",
        "# [nom, latitude, longitude]\n",
        "# Exemple de données :\n",
        "\n",
        "points = [\n",
        "[\"Depot\", 33.5731, -7.5898],\n",
        "[\"Client A\", 33.5899, -7.6039],\n",
        "[\"Client B\", 33.5735, -7.6467],\n",
        "[\"Client C\", 33.6100, -7.5300]\n",
        "]\n",
        "\n",
        "points"
      ]
    },
    {
      "cell_type": "code",
      "execution_count": 34,
      "id": "75ed97ad",
      "metadata": {
        "colab": {
          "base_uri": "https://localhost:8080/"
        },
        "id": "75ed97ad",
        "outputId": "f981c464-d46c-4108-fdfb-36d2843c3698"
      },
      "outputs": [
        {
          "output_type": "stream",
          "name": "stdout",
          "text": [
            "Nom : Depot | Latitude : 33.5731| Longitude :-7.5898 \n",
            "Nom : Client A | Latitude : 33.5899| Longitude :-7.6039 \n",
            "Nom : Client B | Latitude : 33.5735| Longitude :-7.6467 \n",
            "Nom : Client C | Latitude : 33.61| Longitude :-7.53 \n"
          ]
        }
      ],
      "source": [
        "# 1 – Affichage des points\n",
        "# Écrire une fonction afficher_points(points) qui affiche la liste de points sous la forme :\n",
        "# Nom : Client A | Latitude : 33.5899 | Longitude : -7.6039\n",
        "\n",
        "def afficher_points(points):\n",
        "    if not points:\n",
        "        print(\"Aucun point à afficher.\")\n",
        "        return\n",
        "    for point in points:\n",
        "        print(f\"Nom : {point[0]} | Latitude : {point[1]}| Longitude :{point[2]} \")\n",
        "\n",
        "\n",
        "\n",
        "# test section\n",
        "afficher_points(points)\n"
      ]
    },
    {
      "cell_type": "code",
      "execution_count": 3,
      "id": "b2bbc91c",
      "metadata": {
        "colab": {
          "base_uri": "https://localhost:8080/"
        },
        "id": "b2bbc91c",
        "outputId": "50b25653-f935-4e9b-b08c-b4d2fe1d992b"
      },
      "outputs": [
        {
          "output_type": "execute_result",
          "data": {
            "text/plain": [
              "0.07658472432541613"
            ]
          },
          "metadata": {},
          "execution_count": 3
        }
      ],
      "source": [
        "# 2 – Calcul de distance\n",
        "# Écrire une fonction distance(p1, p2) qui calcule la distance euclidienne entre deux points :\n",
        "\n",
        "def distance(p1,p2):\n",
        "    lat1 = p1[1]\n",
        "    long1 = p1[2]\n",
        "\n",
        "    lat2 = p2[1]\n",
        "    long2 = p2[2]\n",
        "\n",
        "    resultat = ((lat1 - lat2)**2 + (long1 - long2)**2)**0.5\n",
        "    return resultat\n",
        "\n",
        "# test section\n",
        "distance(['Client C', 33.61, -7.53],['Client A', 33.5899, -7.6039])"
      ]
    },
    {
      "cell_type": "code",
      "execution_count": 4,
      "id": "5df9b52c",
      "metadata": {
        "colab": {
          "base_uri": "https://localhost:8080/"
        },
        "id": "5df9b52c",
        "outputId": "b33ccd0b-af43-44b5-e526-8a91dba3b724"
      },
      "outputs": [
        {
          "output_type": "execute_result",
          "data": {
            "text/plain": [
              "0.03727566799663012"
            ]
          },
          "metadata": {},
          "execution_count": 4
        }
      ],
      "source": [
        "# 3 – Distance moyenne\n",
        "# Écrire une fonction distance_moyenne(depot, points) qui calcule la distance moyenne entre le dépôt et\n",
        "# les autres points.\n",
        "\n",
        "def distance_moyenne(depot, points):\n",
        "    resulta = 0\n",
        "\n",
        "    for point in points:\n",
        "        resulta = resulta + distance(depot,point)\n",
        "    return resulta/len(points)\n",
        "\n",
        "\n",
        "# test secation\n",
        "distance_moyenne(points[0],points)"
      ]
    },
    {
      "cell_type": "code",
      "execution_count": 5,
      "id": "8c10f77b",
      "metadata": {
        "colab": {
          "base_uri": "https://localhost:8080/",
          "height": 36
        },
        "id": "8c10f77b",
        "outputId": "0667bb91-4388-4eb1-8afb-6ba23b6f7628"
      },
      "outputs": [
        {
          "output_type": "execute_result",
          "data": {
            "text/plain": [
              "'Client A'"
            ],
            "application/vnd.google.colaboratory.intrinsic+json": {
              "type": "string"
            }
          },
          "metadata": {},
          "execution_count": 5
        }
      ],
      "source": [
        "# 4 – Recherche du client le plus proche\n",
        "# Écrire une fonction plus_proche(depot, points) qui retourne le nom du client le plus proche du dépôt.\n",
        "def plus_proche(depot, points):\n",
        "    min_distance = float('inf')\n",
        "    min_client = \"\"\n",
        "    for point in points:\n",
        "        # passer si ou dans le depot\n",
        "        if point is depot or point[0] == depot[0]:\n",
        "            continue\n",
        "        d = distance(depot,point)\n",
        "        if  d < min_distance:\n",
        "            min_distance = d\n",
        "            min_client = point[0]\n",
        "    return min_client\n",
        "\n",
        "# test section\n",
        "\n",
        "plus_proche(points[0],points)"
      ]
    },
    {
      "cell_type": "code",
      "execution_count": 6,
      "id": "ad98cc12",
      "metadata": {
        "colab": {
          "base_uri": "https://localhost:8080/"
        },
        "id": "ad98cc12",
        "outputId": "834be87b-fa7f-43c0-c868-ea5fc8aff3af"
      },
      "outputs": [
        {
          "output_type": "stream",
          "name": "stdout",
          "text": [
            "les points dans une zone géographique donnée sont: \n",
            " [['Depot', 33.5731, -7.5898], ['Client A', 33.5899, -7.6039], ['Client B', 33.5735, -7.6467]]\n"
          ]
        }
      ],
      "source": [
        "# 5 – Points dans une zone\n",
        "# Écrire une fonction points_dans_zone(points, lat_min, lat_max, lon_min, lon_max)\n",
        "# qui retourne une nouvelle liste contenant les points dans une zone géographique donnée.\n",
        "\n",
        "def points_dans_zone(points, lat_min, lat_max, lon_min, lon_max):\n",
        "    points_dans_zone = []\n",
        "    for point in points :\n",
        "        if(point[1]>=lat_min and point[1]<=lat_max and point[2] >= lon_min and point[2] <= lon_max):\n",
        "            points_dans_zone.append(point)\n",
        "\n",
        "    return points_dans_zone\n",
        "\n",
        "\n",
        "\n",
        "\n",
        "# Zone à utiliser pour le test :\n",
        "# lat_min, lat_max = 33.57, 33.60\n",
        "# lon_min, lon_max = -7.65, -7.58\n",
        "\n",
        "print(\"les points dans une zone géographique donnée sont: \\n\",points_dans_zone(points,33.57, 33.60,-7.65, -7.58))"
      ]
    },
    {
      "cell_type": "code",
      "execution_count": 20,
      "id": "143ac5fb",
      "metadata": {
        "colab": {
          "base_uri": "https://localhost:8080/"
        },
        "id": "143ac5fb",
        "outputId": "aeeffef4-e3d6-42a9-f28d-5c685293c38d"
      },
      "outputs": [
        {
          "output_type": "stream",
          "name": "stdout",
          "text": [
            "\n",
            "    tapez\n",
            "    - 1 : Affiche tous les points. \n",
            "    - 2 : Calcule et affiche la distance entre le dépôt et chaque point. \n",
            "    - 3 : Indique le client le plus proche du dépôt. \n",
            "    - 4 : Affiche les clients situés dans la zone géographique donnée.\n",
            "    - 0 :Quitter\n",
            "    4\n",
            "\n",
            "--- Définir la zone géographique ---\n",
            "Latitude minimale : 33.57\n",
            "Latitude maximale : 33.60 \n",
            "Longitude minimale : -7.65\n",
            "Longitude maximale : -7.58 \n",
            "\n",
            "Clients dans la zone Donee :\n",
            "Nom : Depot | Latitude : 33.5731| Longitude :-7.5898 \n",
            "Nom : Client A | Latitude : 33.5899| Longitude :-7.6039 \n",
            "Nom : Client B | Latitude : 33.5735| Longitude :-7.6467 \n",
            "\n",
            "    tapez\n",
            "    - 1 : Affiche tous les points. \n",
            "    - 2 : Calcule et affiche la distance entre le dépôt et chaque point. \n",
            "    - 3 : Indique le client le plus proche du dépôt. \n",
            "    - 4 : Affiche les clients situés dans la zone géographique donnée.\n",
            "    - 0 :Quitter\n",
            "    99\n",
            "Choix invalide. Veuillez réessayer.\n",
            "\n",
            "\n",
            "    tapez\n",
            "    - 1 : Affiche tous les points. \n",
            "    - 2 : Calcule et affiche la distance entre le dépôt et chaque point. \n",
            "    - 3 : Indique le client le plus proche du dépôt. \n",
            "    - 4 : Affiche les clients situés dans la zone géographique donnée.\n",
            "    - 0 :Quitter\n",
            "    0\n",
            "merci pour voter viste\n"
          ]
        }
      ],
      "source": [
        "# 6 – Programme complet\n",
        "# Créer un programme principal qui :\n",
        "# 1. Affiche tous les points.\n",
        "# 2. Calcule et affiche la distance entre le dépôt et chaque point.\n",
        "# 3. Indique le client le plus proche du dépôt.\n",
        "# 4. Affiche les clients situés dans la zone géographique donnée.\n",
        "\n",
        "while True :\n",
        "    opiration = int(input(\n",
        "    \"\"\"\n",
        "    tapez\n",
        "    - 1 : Affiche tous les points.\n",
        "    - 2 : Calcule et affiche la distance entre le dépôt et chaque point.\n",
        "    - 3 : Indique le client le plus proche du dépôt.\n",
        "    - 4 : Affiche les clients situés dans la zone géographique donnée.\n",
        "    - 0 :Quitter\n",
        "    \"\"\"\n",
        "    ))\n",
        "    if opiration == 0:\n",
        "      print(\"merci pour voter viste\")\n",
        "      break\n",
        "    elif opiration == 1:\n",
        "        print(\"tous les points:\\n\")\n",
        "        afficher_points(points)\n",
        "    elif opiration == 2:\n",
        "        print(\"la distance entre le dépôt et chaque point:\")\n",
        "        for point in points[1:]:\n",
        "\n",
        "            print(f\"distance entre depot et {point[0]} est :\",distance(point,points[0]))\n",
        "    elif opiration == 3:\n",
        "        print(\"le client le plus proche du dépôt c'est:\",plus_proche(points[0],points))\n",
        "    elif opiration == 4:\n",
        "        print(\"\\n--- Définir la zone géographique ---\")\n",
        "        lat_min = float(input(\"Latitude minimale : \"))\n",
        "        lat_max = float(input(\"Latitude maximale : \"))\n",
        "        lon_min = float(input(\"Longitude minimale : \"))\n",
        "        lon_max = float(input(\"Longitude maximale : \"))\n",
        "\n",
        "        print(\"\\nClients dans la zone Donee :\")\n",
        "        afficher_points(points_dans_zone(points, lat_min , lat_max  , lon_min , lon_max ))\n",
        "    else:\n",
        "        print(\"Choix invalide. Veuillez réessayer.\\n\")\n",
        "\n",
        "# lat_min, lat_max = 33.57, 33.60\n",
        "# lon_min, lon_max = -7.65, -7.58\n"
      ]
    },
    {
      "cell_type": "code",
      "source": [
        "# Exercice 2 :\n",
        "# Créer une fonction « puissance_SPSR » qui affiche x^n avec un nombre réel et n un\n",
        "# nombre entier qui caractérise l’exposant : x et n doivent être demandés à l’utilisateur.\n",
        "\n",
        "def puissance_SPSR ():\n",
        "  X = float(input(\"enter la valuer X: \"))\n",
        "  n = float(input(\"enter la valuer n: \"))\n",
        "  print(\" x^n = \",X**n)\n",
        "puissance_SPSR()"
      ],
      "metadata": {
        "colab": {
          "base_uri": "https://localhost:8080/"
        },
        "id": "z-72JyYWdYR_",
        "outputId": "213a2bfa-dfcc-46ee-f4e4-e185066f6934"
      },
      "id": "z-72JyYWdYR_",
      "execution_count": 24,
      "outputs": [
        {
          "output_type": "stream",
          "name": "stdout",
          "text": [
            "enter la valuer X2\n",
            "enter la valuer n3\n",
            " x^n =  8.0\n"
          ]
        }
      ]
    },
    {
      "cell_type": "code",
      "source": [
        "# Exercice 3 :\n",
        "# Créer une fonction « puissance_APSR » qui affiche xn avec un nombre réel et n un\n",
        "# nombre entier qui caractérise l’exposant : x et n doivent être demandés à l’utilisateur\n",
        "def puissance_APSR (x,n):\n",
        "  print(\" x^n = \",x**n)\n",
        "puissance_APSR(3,2)\n"
      ],
      "metadata": {
        "colab": {
          "base_uri": "https://localhost:8080/"
        },
        "id": "ZvDJ5NXcecmf",
        "outputId": "b2d1bcfa-dce0-4285-c98a-547daaffcfa7"
      },
      "id": "ZvDJ5NXcecmf",
      "execution_count": 25,
      "outputs": [
        {
          "output_type": "stream",
          "name": "stdout",
          "text": [
            " x^n =  9\n"
          ]
        }
      ]
    },
    {
      "cell_type": "code",
      "source": [
        "# Créer une fonction « puissance_APAR » qui affiche xn avec un nombre réel et n un\n",
        "# nombre entier qui caractérise l’exposant : x et n doivent être demandés à l’utilisateur.\n",
        "def puissance_APAR (x,n):\n",
        "  return x**n\n",
        "puissance_APAR(3,2)"
      ],
      "metadata": {
        "colab": {
          "base_uri": "https://localhost:8080/"
        },
        "id": "YuUq2_cwfGtF",
        "outputId": "06286769-efa6-410f-e012-b51d3f8e142d"
      },
      "id": "YuUq2_cwfGtF",
      "execution_count": 26,
      "outputs": [
        {
          "output_type": "execute_result",
          "data": {
            "text/plain": [
              "9"
            ]
          },
          "metadata": {},
          "execution_count": 26
        }
      ]
    },
    {
      "cell_type": "code",
      "execution_count": 21,
      "id": "86ef8d11",
      "metadata": {
        "colab": {
          "base_uri": "https://localhost:8080/"
        },
        "id": "86ef8d11",
        "outputId": "ebd90c8c-b98f-4846-f291-3dc7b2cb263e"
      },
      "outputs": [
        {
          "output_type": "stream",
          "name": "stdout",
          "text": [
            "Entrez votre prénom : luise\n",
            "Poids (kg) : 70\n",
            "Taille (m) : 1.73\n",
            "\n",
            "luise, votre IMC est 23.39.\n",
            "Corpulence normale.\n"
          ]
        }
      ],
      "source": [
        "# Exercice 4 :\n",
        "# Le sujet :\n",
        "# 1. Vous demandez a l'utilisateur de rentrer son prénom, son poids (en kg) et sa\n",
        "# taille (en m)\n",
        "# 2. Votre programme calcule son IMC (formule : poids/taille²)\n",
        "# 3. Il affiche le résultat et son interprétation\n",
        "\n",
        "prenom = input(\"Entrez votre prénom : \")\n",
        "poids = float(input(\"Poids (kg) : \"))\n",
        "taille = float(input(\"Taille (m) : \"))\n",
        "\n",
        "IMC = poids / (taille ** 2)\n",
        "print(f\"\\n{prenom}, votre IMC est {IMC:.2f}.\")\n",
        "\n",
        "if IMC < 16.5:\n",
        "    print(\"Dénutrition (famine).\")\n",
        "elif IMC < 18.5:\n",
        "    print(\"Maigreur.\")\n",
        "elif IMC < 25:\n",
        "    print(\"Corpulence normale.\")\n",
        "elif IMC < 30:\n",
        "    print(\"Surpoids.\")\n",
        "elif IMC < 35:\n",
        "    print(\"Obésité modérée.\")\n",
        "elif IMC < 40:\n",
        "    print(\"Obésité sévère.\")\n",
        "else:\n",
        "    print(\"Obésité morbide ou massive.\")\n"
      ]
    }
  ],
  "metadata": {
    "kernelspec": {
      "display_name": "Python 3",
      "language": "python",
      "name": "python3"
    },
    "language_info": {
      "codemirror_mode": {
        "name": "ipython",
        "version": 3
      },
      "file_extension": ".py",
      "mimetype": "text/x-python",
      "name": "python",
      "nbconvert_exporter": "python",
      "pygments_lexer": "ipython3",
      "version": "3.13.0"
    },
    "colab": {
      "provenance": [],
      "include_colab_link": true
    }
  },
  "nbformat": 4,
  "nbformat_minor": 5
}