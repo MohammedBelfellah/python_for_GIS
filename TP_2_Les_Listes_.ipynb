{
  "nbformat": 4,
  "nbformat_minor": 0,
  "metadata": {
    "colab": {
      "provenance": [],
      "authorship_tag": "ABX9TyOd2eXoR3w3K90o57QjL6ik",
      "include_colab_link": true
    },
    "kernelspec": {
      "name": "python3",
      "display_name": "Python 3"
    },
    "language_info": {
      "name": "python"
    }
  },
  "cells": [
    {
      "cell_type": "markdown",
      "metadata": {
        "id": "view-in-github",
        "colab_type": "text"
      },
      "source": [
        "<a href=\"https://colab.research.google.com/github/MohammedBelfellah/python_for_GIS/blob/main/TP_2_Les_Listes_.ipynb\" target=\"_parent\"><img src=\"https://colab.research.google.com/assets/colab-badge.svg\" alt=\"Open In Colab\"/></a>"
      ]
    },
    {
      "cell_type": "markdown",
      "source": [
        "**TP 2 : Les Listes**\n",
        "\n",
        "*Mohammed belfellah*"
      ],
      "metadata": {
        "id": "pM7QIkT-ZRbb"
      }
    },
    {
      "cell_type": "code",
      "source": [
        "# 1. Taper les lignes suivantes dans l’environnement IDLE et commentez les résultats obtenus\n",
        "# Accès aux éléments d’une liste\n",
        "\n",
        "s = [1, 2, 3, 8, 5, 4, 9, 0]\n",
        "\n",
        "# s[0]     donne le 1er élément de la liste (1)\n",
        "# s[1:]    donne les éléments du 2e jusqu’au dernier [2, 3, 8, 5, 4, 9, 0]\n",
        "# s[:2]    donne les deux premiers éléments [1, 2]\n",
        "# s[1:3]   donne les éléments d’indice 1 à 2 (le 2e et le 3e) → [2, 3]\n",
        "# s[:]     donne toute la liste complète [1, 2, 3, 8, 5, 4, 9, 0]"
      ],
      "metadata": {
        "id": "MMCnd619V7iC"
      },
      "execution_count": null,
      "outputs": []
    },
    {
      "cell_type": "code",
      "source": [
        "# Opérations sur les listes\n",
        "s = ['lundi', 'mardi', 'mercredi', 'jeudi']"
      ],
      "metadata": {
        "id": "8EDocXM7WZm_"
      },
      "execution_count": 65,
      "outputs": []
    },
    {
      "cell_type": "code",
      "source": [
        "len(s)\n",
        "# - donne le nombre d’éléments dans la liste (ici 4)"
      ],
      "metadata": {
        "colab": {
          "base_uri": "https://localhost:8080/"
        },
        "id": "cQMxHRV5WgwD",
        "outputId": "55ac23d7-def9-48b8-a338-4f4246e20bcb"
      },
      "execution_count": 66,
      "outputs": [
        {
          "output_type": "execute_result",
          "data": {
            "text/plain": [
              "4"
            ]
          },
          "metadata": {},
          "execution_count": 66
        }
      ]
    },
    {
      "cell_type": "code",
      "source": [
        "s + ['jeudi', 'vendredi']\n",
        "# - crée une nouvelle liste avec les deux mots ajoutés à la fin\n",
        "# - ne change pas s directement"
      ],
      "metadata": {
        "colab": {
          "base_uri": "https://localhost:8080/"
        },
        "id": "zQxspqjYWjnE",
        "outputId": "e0b28347-ae22-4fe2-f7f1-1d5167f67ef6"
      },
      "execution_count": 67,
      "outputs": [
        {
          "output_type": "execute_result",
          "data": {
            "text/plain": [
              "['lundi', 'mardi', 'mercredi', 'jeudi', 'jeudi', 'vendredi']"
            ]
          },
          "metadata": {},
          "execution_count": 67
        }
      ]
    },
    {
      "cell_type": "code",
      "source": [
        "del s[2]\n",
        "# - supprime l’élément à la position 2 (ici \"mercredi\")"
      ],
      "metadata": {
        "id": "ldSVcMarWoGf"
      },
      "execution_count": 68,
      "outputs": []
    },
    {
      "cell_type": "code",
      "source": [
        "s * 2\n",
        "# - répète la liste deux fois (affiche la liste doublée)"
      ],
      "metadata": {
        "colab": {
          "base_uri": "https://localhost:8080/"
        },
        "id": "scxnQT8KWsdl",
        "outputId": "17aedbac-e1c1-4a0d-f6be-ba9f1ba3bbaa"
      },
      "execution_count": 69,
      "outputs": [
        {
          "output_type": "execute_result",
          "data": {
            "text/plain": [
              "['lundi', 'mardi', 'jeudi', 'lundi', 'mardi', 'jeudi']"
            ]
          },
          "metadata": {},
          "execution_count": 69
        }
      ]
    },
    {
      "cell_type": "code",
      "source": [
        "s[2] = 'mercredi'\n",
        "# - remplace l’élément d’indice 2 par \"mercredi\""
      ],
      "metadata": {
        "id": "6-olm67vWy1G"
      },
      "execution_count": 70,
      "outputs": []
    },
    {
      "cell_type": "code",
      "source": [
        "s[0:2] = ['jeudi', 38]\n",
        "# - remplace les deux premiers éléments par \"jeudi\" et 38"
      ],
      "metadata": {
        "id": "fZ962KB1W8O8"
      },
      "execution_count": 71,
      "outputs": []
    },
    {
      "cell_type": "code",
      "source": [
        "# Fonctions avancées\n",
        "\n",
        "s = ['lundi', 'mardi', 'mercredi', 'jeudi', 'vendredi']\n",
        "\n",
        "s.append('samedi')\n",
        "# - ajoute \"samedi\" à la fin de la liste"
      ],
      "metadata": {
        "id": "KMDpwaq4XK6E"
      },
      "execution_count": 72,
      "outputs": []
    },
    {
      "cell_type": "code",
      "source": [
        "s.remove('lundi')\n",
        "# - supprime la première valeur \"lundi\" trouvée dans la liste"
      ],
      "metadata": {
        "id": "Pv29HACbXcrP"
      },
      "execution_count": 73,
      "outputs": []
    },
    {
      "cell_type": "code",
      "source": [
        "s.pop()\n",
        "# - enlève le dernier élément de la liste et return la valuer"
      ],
      "metadata": {
        "colab": {
          "base_uri": "https://localhost:8080/",
          "height": 35
        },
        "id": "BaGQV2KRXhQj",
        "outputId": "d0b5a315-e75b-4b72-8ced-2008620aae44"
      },
      "execution_count": 74,
      "outputs": [
        {
          "output_type": "execute_result",
          "data": {
            "text/plain": [
              "'samedi'"
            ],
            "application/vnd.google.colaboratory.intrinsic+json": {
              "type": "string"
            }
          },
          "metadata": {},
          "execution_count": 74
        }
      ]
    },
    {
      "cell_type": "code",
      "source": [
        "\n",
        "s\n",
        "# - aficharge la liste actuelle\n"
      ],
      "metadata": {
        "colab": {
          "base_uri": "https://localhost:8080/"
        },
        "id": "z8HS1fpYXuJr",
        "outputId": "28e6a4c0-e5ab-4b2d-ee6a-514f53fd72f1"
      },
      "execution_count": 75,
      "outputs": [
        {
          "output_type": "execute_result",
          "data": {
            "text/plain": [
              "['mardi', 'mercredi', 'jeudi', 'vendredi']"
            ]
          },
          "metadata": {},
          "execution_count": 75
        }
      ]
    },
    {
      "cell_type": "code",
      "source": [
        "s.reverse()\n",
        "# - inverse l’ordre des éléments dans la liste\n",
        "\n",
        "s.sort()\n",
        "# - trie la liste dans l’ordre alphabétique (ou croissant pour les nombres)"
      ],
      "metadata": {
        "id": "mvUl0pvCXpOO"
      },
      "execution_count": null,
      "outputs": []
    },
    {
      "cell_type": "code",
      "source": [
        "# Manipulation des listes\n",
        "\n",
        "maListe = [22, \"coucou\", 33, \"z\", 'a', 'b', 111, 99]\n",
        "# - crée une liste avec des nombres et des mots\n"
      ],
      "metadata": {
        "id": "22CFj6l3X_XX"
      },
      "execution_count": 76,
      "outputs": []
    },
    {
      "cell_type": "code",
      "source": [
        "\n",
        "maListe\n",
        "# - affiche la liste complète\n"
      ],
      "metadata": {
        "colab": {
          "base_uri": "https://localhost:8080/"
        },
        "id": "XIQ8bx-PYDta",
        "outputId": "e71447fe-0623-4e43-a40e-68df988cf945"
      },
      "execution_count": 77,
      "outputs": [
        {
          "output_type": "execute_result",
          "data": {
            "text/plain": [
              "[22, 'coucou', 33, 'z', 'a', 'b', 111, 99]"
            ]
          },
          "metadata": {},
          "execution_count": 77
        }
      ]
    },
    {
      "cell_type": "code",
      "source": [
        "\n",
        "len(maListe)\n",
        "# - donne le nombre d’éléments dans la liste\n"
      ],
      "metadata": {
        "colab": {
          "base_uri": "https://localhost:8080/"
        },
        "id": "6oKgv9l5YGJS",
        "outputId": "54031400-8cbc-4900-967b-895dae2dfbbe"
      },
      "execution_count": 78,
      "outputs": [
        {
          "output_type": "execute_result",
          "data": {
            "text/plain": [
              "8"
            ]
          },
          "metadata": {},
          "execution_count": 78
        }
      ]
    },
    {
      "cell_type": "code",
      "source": [
        "\n",
        "'z' in maListe\n",
        "# - vérifie si 'z' est dans la liste (True ou False)\n"
      ],
      "metadata": {
        "colab": {
          "base_uri": "https://localhost:8080/"
        },
        "id": "CS7QuOY6YIUd",
        "outputId": "4b807817-3aaa-4313-f611-5eaa432e38c5"
      },
      "execution_count": 79,
      "outputs": [
        {
          "output_type": "execute_result",
          "data": {
            "text/plain": [
              "True"
            ]
          },
          "metadata": {},
          "execution_count": 79
        }
      ]
    },
    {
      "cell_type": "code",
      "source": [
        "\n",
        "maListe[3] = 1024\n",
        "# - remplace la valeur à la position 3 par 1024\n"
      ],
      "metadata": {
        "id": "ifTybmSdYKfW"
      },
      "execution_count": 80,
      "outputs": []
    },
    {
      "cell_type": "code",
      "source": [
        "\n",
        "'z' in maListe\n",
        "# - vérifie encore si 'z' est dans la liste (maintenant False)\n"
      ],
      "metadata": {
        "colab": {
          "base_uri": "https://localhost:8080/"
        },
        "id": "0kbmHW1HYMQm",
        "outputId": "d7f5bd48-21b1-47e0-a4e7-9f812f1c61ca"
      },
      "execution_count": 81,
      "outputs": [
        {
          "output_type": "execute_result",
          "data": {
            "text/plain": [
              "False"
            ]
          },
          "metadata": {},
          "execution_count": 81
        }
      ]
    },
    {
      "cell_type": "code",
      "source": [
        "\n",
        "maListe\n",
        "# - affiche la liste après le changement\n"
      ],
      "metadata": {
        "colab": {
          "base_uri": "https://localhost:8080/"
        },
        "id": "N4JdXMRSYN5E",
        "outputId": "8b66fe53-2763-44dd-f365-d0c3dbc1583b"
      },
      "execution_count": 82,
      "outputs": [
        {
          "output_type": "execute_result",
          "data": {
            "text/plain": [
              "[22, 'coucou', 33, 1024, 'a', 'b', 111, 99]"
            ]
          },
          "metadata": {},
          "execution_count": 82
        }
      ]
    },
    {
      "cell_type": "code",
      "source": [
        "\n",
        "maListe.append(33)\n",
        "# - ajoute 33 à la fin de la liste\n"
      ],
      "metadata": {
        "id": "Hko7j4WYYQb4"
      },
      "execution_count": 84,
      "outputs": []
    },
    {
      "cell_type": "code",
      "source": [
        "\n",
        "maListe.append(\"hello\")\n",
        "# - ajoute \"hello\" à la fin de la liste\n"
      ],
      "metadata": {
        "id": "8KyujmXYYSii"
      },
      "execution_count": 85,
      "outputs": []
    },
    {
      "cell_type": "code",
      "source": [
        "\n",
        "maListe\n",
        "# - affiche la liste après les ajouts\n"
      ],
      "metadata": {
        "colab": {
          "base_uri": "https://localhost:8080/"
        },
        "id": "bIFECjtsYUIS",
        "outputId": "a12627b9-1ceb-4fa7-b334-7dae14c8fd0a"
      },
      "execution_count": 86,
      "outputs": [
        {
          "output_type": "execute_result",
          "data": {
            "text/plain": [
              "[22, 'coucou', 33, 1024, 'a', 'b', 111, 99, 33, 33, 'hello']"
            ]
          },
          "metadata": {},
          "execution_count": 86
        }
      ]
    },
    {
      "cell_type": "code",
      "source": [
        "\n",
        "maListe.remove(33)\n",
        "# - enlève le premier 33 trouvé dans la liste\n"
      ],
      "metadata": {
        "id": "UjDy0bHZYX54"
      },
      "execution_count": 87,
      "outputs": []
    },
    {
      "cell_type": "code",
      "source": [
        "\n",
        "33 in maListe\n",
        "# - vérifie s’il reste encore un 33 dans la liste (True s’il y en a un autre)\n"
      ],
      "metadata": {
        "colab": {
          "base_uri": "https://localhost:8080/"
        },
        "id": "xdNtO-npYaqE",
        "outputId": "09de7d66-5a9b-45e4-d193-af3af9371b7b"
      },
      "execution_count": 88,
      "outputs": [
        {
          "output_type": "execute_result",
          "data": {
            "text/plain": [
              "True"
            ]
          },
          "metadata": {},
          "execution_count": 88
        }
      ]
    },
    {
      "cell_type": "code",
      "source": [
        "\n",
        "maListe\n",
        "# - affiche la liste après suppression\n"
      ],
      "metadata": {
        "colab": {
          "base_uri": "https://localhost:8080/"
        },
        "id": "wiPqrkGxYchF",
        "outputId": "6be8c1d7-73cc-4055-adcf-af18d7cbeed8"
      },
      "execution_count": 89,
      "outputs": [
        {
          "output_type": "execute_result",
          "data": {
            "text/plain": [
              "[22, 'coucou', 1024, 'a', 'b', 111, 99, 33, 33, 'hello']"
            ]
          },
          "metadata": {},
          "execution_count": 89
        }
      ]
    },
    {
      "cell_type": "code",
      "source": [
        "\n",
        "maListe.pop()\n",
        "# - enlève le dernier élément de la liste + return la valuer\n"
      ],
      "metadata": {
        "colab": {
          "base_uri": "https://localhost:8080/",
          "height": 35
        },
        "id": "m8iHHPFkYfDH",
        "outputId": "934ca5fa-a508-49b5-8f89-9a74b6a2d08e"
      },
      "execution_count": 90,
      "outputs": [
        {
          "output_type": "execute_result",
          "data": {
            "text/plain": [
              "'hello'"
            ],
            "application/vnd.google.colaboratory.intrinsic+json": {
              "type": "string"
            }
          },
          "metadata": {},
          "execution_count": 90
        }
      ]
    },
    {
      "cell_type": "markdown",
      "source": [
        "# Exercice 1 :\n",
        "Ecrivez et testez les fonctions de gestion de liste sans utiliser les fonctions prédéfinies de\n",
        "manipulation des listes à l'exception des fonctions basiques \"len\", \"append\" et \"del\" :\n",
        "\n",
        "    - Ajouter un élément en-tête de liste\n",
        "    - Ajouter un élément en fin de liste\n",
        "    - Maximum des éléments\n",
        "    - Trier une liste"
      ],
      "metadata": {
        "id": "PR9VwR1eS68I"
      }
    },
    {
      "cell_type": "code",
      "source": [
        "# Ajouter un élément en-tête de liste\n",
        "ele = \"625 HP\"\n",
        "\n",
        "s =[\"bmw\",324,\" M5 cs \"]\n",
        "\n",
        "nv_list= [ele]\n",
        "s = nv_list + s\n",
        "\n",
        "print(s)\n"
      ],
      "metadata": {
        "colab": {
          "base_uri": "https://localhost:8080/"
        },
        "id": "f2JhPcQ7TZnd",
        "outputId": "60535e75-92eb-4bbb-aa91-8b1b36d8ccdb"
      },
      "execution_count": 55,
      "outputs": [
        {
          "output_type": "stream",
          "name": "stdout",
          "text": [
            "['625 HP', 'bmw', 324, ' M5 cs ']\n"
          ]
        }
      ]
    },
    {
      "cell_type": "code",
      "source": [
        "# Ajouter un élément en fin de liste\n",
        "s = s + nv_list\n",
        "print(s)"
      ],
      "metadata": {
        "colab": {
          "base_uri": "https://localhost:8080/"
        },
        "id": "VUkyqwGnTa4_",
        "outputId": "ae61a395-3fcf-4a95-910e-23cd6a146d78"
      },
      "execution_count": 56,
      "outputs": [
        {
          "output_type": "stream",
          "name": "stdout",
          "text": [
            "['625 HP', 'bmw', 324, ' M5 cs ', '625 HP']\n"
          ]
        }
      ]
    },
    {
      "cell_type": "code",
      "source": [
        "# Maximum des éléments\n",
        "L= [-23,23,4,]\n",
        "max_ele = L[0]\n",
        "for i in L:\n",
        "    if i > max_ele:\n",
        "        max_ele = i\n",
        "max_ele"
      ],
      "metadata": {
        "colab": {
          "base_uri": "https://localhost:8080/"
        },
        "id": "dp3y8JeRTl_d",
        "outputId": "07723b0b-5163-4ab2-f58e-11332cd3bf31"
      },
      "execution_count": 57,
      "outputs": [
        {
          "output_type": "execute_result",
          "data": {
            "text/plain": [
              "23"
            ]
          },
          "metadata": {},
          "execution_count": 57
        }
      ]
    },
    {
      "cell_type": "code",
      "source": [
        "# Trier une liste\n",
        "L = [5, 9, 1, 7, 3, 2]\n",
        "sorted_list = []\n",
        "\n",
        "while L != []:\n",
        "    max_value = L[0]\n",
        "    for i in L:\n",
        "        if i > max_value:\n",
        "            max_value = i\n",
        "    sorted_list = [max_value] + sorted_list\n",
        "    L.remove(max_value)\n",
        "\n",
        "print(\"Liste triée :\", sorted_list)\n",
        "\n",
        "\n",
        ""
      ],
      "metadata": {
        "id": "xuJEgYWSTwAs"
      },
      "execution_count": null,
      "outputs": []
    },
    {
      "cell_type": "code",
      "source": [
        "# 1. Crée une liste initiale\n",
        "produits = [\"lait\", \"pain\", \"huile\", \"riz\"]\n",
        "\n",
        "# 2 afficharge list de magasin\n",
        "for produit in produits:\n",
        "    print(produit)"
      ],
      "metadata": {
        "colab": {
          "base_uri": "https://localhost:8080/"
        },
        "id": "j-U1GueRdjpV",
        "outputId": "c72eb18f-570e-4c59-e07c-7dd83b5208cf"
      },
      "execution_count": 2,
      "outputs": [
        {
          "output_type": "stream",
          "name": "stdout",
          "text": [
            "lait\n",
            "pain\n",
            "huile\n",
            "riz\n"
          ]
        }
      ]
    },
    {
      "cell_type": "markdown",
      "source": [
        "3. Permets à l’utilisateur :\n",
        "\n",
        "\n"
      ],
      "metadata": {
        "id": "JZJrg2C0lyJj"
      }
    },
    {
      "cell_type": "code",
      "source": [
        "\n",
        "\n",
        "while True:\n",
        "  operation = int(input(\"\"\"Tapez :\n",
        "  1 : Ajouter\n",
        "  2 : Supprimer\n",
        "  3 : Rechercher\n",
        "  4 : Afficher\n",
        "  5 : Quitter\n",
        "  \"\"\"))\n",
        "  if operation == 1:\n",
        "    # d’ajouter un produit\n",
        "    ajouter = True\n",
        "    while ajouter:\n",
        "      nv_roduit = input(\"Ajouter un nv produit : \")\n",
        "      if nv_roduit in produits:\n",
        "        print(\" Ce produit existe déjà\")\n",
        "      else:\n",
        "        produits.append(nv_roduit)\n",
        "        ajouter = True if input(\"Voulez-vous ajouter un autre produit (oui / non) : \").lower() == \"oui\" else False\n",
        "        print(\"Produits ajouté avec succès.\")\n",
        "  elif operation == 2:\n",
        "    # de supprimer un produit\n",
        "    supp_produit = input(\"Lequel voulez-vous supprimer ?\").lower()\n",
        "    if supp_produit not in produits:\n",
        "      print(\" Ce produit existe pas\")\n",
        "    else:\n",
        "      produits.remove(supp_produit)\n",
        "      print(\"Produit supprimé avec succès.\")\n",
        "  elif operation == 3:\n",
        "    # de rechercher un produit\n",
        "    search_produit = input(\"Entrez le produit à rechercher : \").lower()\n",
        "    if search_produit in produits:\n",
        "      print(f\"Le produit '{search_produit}' existe à l’index {produits.index(search_produit)}.\")\n",
        "    else:\n",
        "      print(\"Le produit n’existe pas.\")\n",
        "  elif operation == 4:\n",
        "    # d’afficher la liste triée\n",
        "    produits.sort()\n",
        "    print(\"Liste des produits triée :\", produits)\n",
        "  elif operation == 5:\n",
        "    print(\"Merci pour votre visite.\")\n",
        "    break\n",
        "  else :\n",
        "    print(\"Choix invalide, veuillez réessayer.\")\n",
        "\n"
      ],
      "metadata": {
        "colab": {
          "base_uri": "https://localhost:8080/"
        },
        "id": "k3YPEhaisFEs",
        "outputId": "85c8862a-5cec-4a2e-d0f9-2f822aca3c11"
      },
      "execution_count": 44,
      "outputs": [
        {
          "output_type": "stream",
          "name": "stdout",
          "text": [
            "Tapez :\n",
            "  1 : Ajouter\n",
            "  2 : Supprimer\n",
            "  3 : Rechercher\n",
            "  4 : Afficher\n",
            "  5 : Quitter\n",
            "  5\n",
            "Merci pour votre visite.\n"
          ]
        }
      ]
    },
    {
      "cell_type": "markdown",
      "source": [
        "**Exercice 3:**\n",
        "\n",
        "Manipuler des listes Python pour représenter et analyser des points géographiques (latitude,longitude) d’une zone donnée.Données de départ:\n",
        "\n",
        "\n",
        "---\n",
        "\n",
        "```\n",
        "# Liste des villes et leurs coordonnées (latitude, longitude)\n",
        "villes = [\n",
        "[\"Rabat\", 34.0209, -6.8416],\n",
        "[\"Casablanca\", 33.5731, -7.5898],\n",
        "[\"Fès\", 34.0331, -5.0003],\n",
        "[\"Marrakech\", 31.6295, -7.9811],\n",
        "[\"Tanger\", 35.7595, -5.8339]\n",
        "]\n",
        "```\n",
        "\n",
        "\n",
        "\n",
        "1. Afficher la liste complète des villes avec leurs coordonnées.\n",
        "2. Ajouter une nouvelle ville.\n",
        "\n",
        "  - L’utilisateur saisit le nom de la ville, sa latitude et sa longitude, puis on l’ajoute à la liste\n",
        "  - Interdire l’ajout d’une ville déjà existante.\n",
        "3. Afficher uniquement les villes situées au nord du parallèle 34°N.\n",
        "(Indice : latitude > 34)\n",
        "4. Afficher la ville la plus au sud. :(Indice : latitude minimale)\n",
        "5. Afficher la distance \"approximative\" entre deux villes choisies par l’utilisateur.\n",
        "- Utiliser la formule simplifiée de distance plane :\n",
        "6. Supprimer une ville donnée (saisie par l’utilisateur).\n",
        "7. Afficher les villes triées selon leur latitude (du sud vers le nord)\n",
        "- Sans utiliser sort() ni sorted().\n",
        "10. Afficher le nombre total de villes.\n",
        "11. Trouver la ville la plus à l’ouest (longitude minimale).\n",
        "12. Trouver la ville la plus à l’est (longitude maximale).\n"
      ],
      "metadata": {
        "id": "5H318Z7h39RP"
      }
    },
    {
      "cell_type": "code",
      "source": [
        "# Liste des villes et leurs coordonnées (latitude, longitude)\n",
        "villes = [\n",
        "[\"Rabat\", 3, 6],\n",
        "[\"Casablanca\", 33.5731, -7.5898],\n",
        "[\"Fès\", 34.0331, -5.0003],\n",
        "[\"Marrakech\", 31.6295, -7.9811],\n",
        "[\"Tanger\", 35.7595, -5.8339]\n",
        "]\n",
        "\n",
        "for vill,lat,lon in villes:\n",
        "  print(f\"vill:{vill} --> lat :{lat},lon:{lon}\")\n"
      ],
      "metadata": {
        "id": "BXowRqbdBEfB",
        "colab": {
          "base_uri": "https://localhost:8080/"
        },
        "outputId": "195cf043-72f0-417c-c20c-4daa40c44c54"
      },
      "execution_count": 33,
      "outputs": [
        {
          "output_type": "stream",
          "name": "stdout",
          "text": [
            "vill:Rabat --> lat :3,lon:6\n",
            "vill:Casablanca --> lat :33.5731,lon:-7.5898\n",
            "vill:Fès --> lat :34.0331,lon:-5.0003\n",
            "vill:Marrakech --> lat :31.6295,lon:-7.9811\n",
            "vill:Tanger --> lat :35.7595,lon:-5.8339\n"
          ]
        }
      ]
    },
    {
      "cell_type": "code",
      "source": [
        "# Ajouter une nouvelle ville.\n",
        "# L’utilisateur saisit le nom de la ville, sa latitude et sa longitude, puis on l’ajoute à la liste\n",
        "# Interdire l’ajout d’une ville déjà existante.\n",
        "\n",
        "nv_vill_nom = str(input(\"Donne le nom de la vill: \"))\n",
        "nv_vill_lat = float(input(\"donne la latitude de la vill: \"))\n",
        "nv_vill_lon = float(input(\"donne la longitude de la vill: \"))\n",
        "\n",
        "vill_exist = False\n",
        "\n",
        "# check if the cill exist\n",
        "for vill in villes:\n",
        "\n",
        "  nom,lat,lon = vill #[\"rabat\",2323,23232]\n",
        "\n",
        "  if vill[0].lower() == nv_vill_nom.lower() or ( lat == nv_vill_lat and lon == nv_vill_lon):\n",
        "    vill_exist = True\n",
        "    print(\"cette ville est deje exist dans la list \")\n",
        "    break\n",
        "\n",
        "\n",
        "if not vill_exist:\n",
        "    villes.append([nv_vill_nom, nv_vill_lat, nv_vill_lon])\n",
        "    print(f\"La ville {nv_vill_nom} a été ajoutée avec succès \")\n",
        "    print(villes)\n",
        "\n"
      ],
      "metadata": {
        "id": "KLPZgug1tdWs",
        "colab": {
          "base_uri": "https://localhost:8080/"
        },
        "outputId": "e614fedc-60de-4c2a-84f3-2ce561dead8a"
      },
      "execution_count": 51,
      "outputs": [
        {
          "output_type": "stream",
          "name": "stdout",
          "text": [
            "Donne le nom de la vill: beni mellal\n",
            "donne la latitude de la vill: 32.3325\n",
            "donne la longitude de la vill: 6.3627\n",
            "La ville beni mellal a été ajoutée avec succès \n",
            "[['Rabat', 3, 6], ['Marrakech', 31.6295, -7.9811], ['Casablanca', 33.5731, -7.5898], ['Fès', 34.0331, -5.0003], ['Tanger', 35.7595, -5.8339], ['beni mella', 121221.0, 121212.0], ['beni mellal', 32.3325, 6.3627]]\n"
          ]
        }
      ]
    },
    {
      "cell_type": "code",
      "source": [
        "# Afficher uniquement les villes situées au nord du parallèle 34°N. (Indice : latitude > 34)\n",
        "\n",
        "for vill in villes:\n",
        "  if vill[1]>=34:\n",
        "    print(vill[0])"
      ],
      "metadata": {
        "id": "xNEykvo8Yudp",
        "colab": {
          "base_uri": "https://localhost:8080/"
        },
        "outputId": "219211fc-6269-4aca-cbe9-56d23c626e8e"
      },
      "execution_count": 34,
      "outputs": [
        {
          "output_type": "stream",
          "name": "stdout",
          "text": [
            "Fès\n",
            "Tanger\n"
          ]
        }
      ]
    },
    {
      "cell_type": "code",
      "source": [
        "# Afficher la ville la plus au sud. :(Indice : latitude minimale)\n",
        "min_lat = villes[0][1]\n",
        "vill_sud = villes[0][0]\n",
        "for nom,lat,lon in villes:\n",
        "  if float(lat) <= min_lat:\n",
        "    min_lat = lat\n",
        "    vill_sud = nom\n",
        "print(\"ville sud est :\",vill_sud)"
      ],
      "metadata": {
        "id": "C9tLEtsLZciw",
        "colab": {
          "base_uri": "https://localhost:8080/"
        },
        "outputId": "725bb811-cf7e-4f5e-8d76-1f8e54c19a9f"
      },
      "execution_count": 35,
      "outputs": [
        {
          "output_type": "stream",
          "name": "stdout",
          "text": [
            "ville sud est : Rabat\n"
          ]
        }
      ]
    },
    {
      "cell_type": "code",
      "source": [
        "# Afficher la distance \"approximative\" entre deux villes choisies par l’utilisateur.\n",
        "# Utiliser la formule simplifiée de distance plane :\n",
        "\n",
        "import math\n",
        "vill_A = input(\"Entrez le nom de la ville A : \").strip().lower()\n",
        "vill_B = input(\"Entrez le nom de la ville B : \").strip().lower()\n",
        "\n",
        "vill_A_lat = vill_A_lon = vill_B_lat = vill_B_lon = None\n",
        "\n",
        "# Vérifier si la ville A est dans la liste\n",
        "for vill in villes:\n",
        "  if vill[0].lower() == vill_A:\n",
        "    vill_A_lat = vill[1]\n",
        "    vill_A_lon = vill[2]\n",
        "    break\n",
        "\n",
        "# Vérifier si la ville B est dans la liste\n",
        "for vill in villes:\n",
        "  if vill[0].lower() == vill_B:\n",
        "    vill_B_lat = vill[1]\n",
        "    vill_B_lon = vill[2]\n",
        "    break\n",
        "\n",
        "if vill_A_lat is not None and vill_B_lat is not None:\n",
        "  Distance = math.sqrt((vill_A_lat - vill_B_lat) ** 2 + (vill_A_lon - vill_B_lon) ** 2)\n",
        "  print(f\"La distance approximative entre {vill_A} et {vill_B} est : {Distance}\")\n",
        "else:\n",
        "  print(\"Une ou les deux villes n'existent pas dans la liste\")\n"
      ],
      "metadata": {
        "colab": {
          "base_uri": "https://localhost:8080/"
        },
        "id": "1I6nLOtCbZX0",
        "outputId": "30872a2b-a9e4-47b5-fc0c-c960408f86b3"
      },
      "execution_count": 53,
      "outputs": [
        {
          "output_type": "stream",
          "name": "stdout",
          "text": [
            "Entrez le nom de la ville A : beni mellal\n",
            "Entrez le nom de la ville B : Tanger\n",
            "La distance approximative entre beni mellal et tanger est : 12.668913945559817\n"
          ]
        }
      ]
    },
    {
      "cell_type": "code",
      "source": [
        "# Supprimer une ville donnée (saisie par l’utilisateur)\n",
        "# [ [   ] [    ] ]\n",
        "vill_supp = input(\"Entrez la ville a supprimer: \").lower()\n",
        "# check if the vill is in the list\n",
        "vill_exist = False\n",
        "for vill in villes:\n",
        "  if vill[0].lower() == vill_supp:\n",
        "    villes.remove(vill) # we reomve all the sublist\n",
        "    print(\"supprimer avec success\")\n",
        "    vill_exist = True\n",
        "    break\n",
        "if not vill_exist:\n",
        "  print(\"la ville n'exist pas \")\n"
      ],
      "metadata": {
        "colab": {
          "base_uri": "https://localhost:8080/"
        },
        "id": "lNMMYFPVm180",
        "outputId": "564ca298-21b8-4f43-d714-e4b0c6e8a93d"
      },
      "execution_count": 54,
      "outputs": [
        {
          "output_type": "stream",
          "name": "stdout",
          "text": [
            "Entrez la ville a supprimer: beni mella\n",
            "supprimer avec success\n"
          ]
        }
      ]
    },
    {
      "cell_type": "code",
      "source": [
        "# Afficher les villes triées selon leur latitude (du sud vers le nord)\n",
        "\n",
        "for i in range(len(villes)):\n",
        "  for j in range(len(villes)-i-1):\n",
        "      if villes[j][1] > villes[j+1][1]:\n",
        "          villes[j], villes[j+1]=  villes[j+1],villes[j]\n",
        "villes"
      ],
      "metadata": {
        "colab": {
          "base_uri": "https://localhost:8080/"
        },
        "id": "zySsSF7swOWD",
        "outputId": "ef86e481-0b1f-4ede-e49d-430b7236ed9b"
      },
      "execution_count": 40,
      "outputs": [
        {
          "output_type": "execute_result",
          "data": {
            "text/plain": [
              "[['Rabat', 3, 6],\n",
              " ['Marrakech', 31.6295, -7.9811],\n",
              " ['Casablanca', 33.5731, -7.5898],\n",
              " ['Fès', 34.0331, -5.0003],\n",
              " ['Tanger', 35.7595, -5.8339]]"
            ]
          },
          "metadata": {},
          "execution_count": 40
        }
      ]
    },
    {
      "cell_type": "code",
      "source": [
        "# Afficher le nombre total de villes.\n",
        "total_villes = 0\n",
        "for vill in villes:\n",
        "  total_villes +=1\n",
        "total_villes\n"
      ],
      "metadata": {
        "id": "8sJy76BN3X3-",
        "colab": {
          "base_uri": "https://localhost:8080/"
        },
        "outputId": "a01f1715-38b1-45cf-de3b-c63047a214fb"
      },
      "execution_count": 31,
      "outputs": [
        {
          "output_type": "stream",
          "name": "stdout",
          "text": [
            "la ville la plus à l’ouest  ['Marrakech', 31.6295, -7.9811]\n"
          ]
        }
      ]
    },
    {
      "cell_type": "code",
      "source": [
        "# 11. Trouver la ville la plus à l’ouest (longitude minimale).\n",
        "vill_plus_ouest = villes[0]\n",
        "\n",
        "for vill in villes:\n",
        "  if vill[2] < vill_plus_ouest[2]:\n",
        "    vill_plus_ouest = vill\n",
        "\n",
        "print(\"la ville la plus à l’ouest :\",vill_plus_ouest)"
      ],
      "metadata": {
        "colab": {
          "base_uri": "https://localhost:8080/"
        },
        "id": "UuZpSl42RNJo",
        "outputId": "1145b8fe-3bb0-480b-a649-eac5c79034e0"
      },
      "execution_count": 42,
      "outputs": [
        {
          "output_type": "stream",
          "name": "stdout",
          "text": [
            "la ville la plus à l’ouest : ['Marrakech', 31.6295, -7.9811]\n"
          ]
        }
      ]
    },
    {
      "cell_type": "code",
      "source": [
        "# 12. Trouver la ville la plus à l’est (longitude maximale).\n",
        "\n",
        "vill_plus_est = villes[0]\n",
        "\n",
        "for vill in villes:\n",
        "  if vill[2] > vill_plus_est[2]:\n",
        "    vill_plus_est = vill[2]\n",
        "print(\"la ville la plus à l’est :\",vill_plus_est)"
      ],
      "metadata": {
        "colab": {
          "base_uri": "https://localhost:8080/"
        },
        "id": "c1UZf_JiNeMz",
        "outputId": "4f63eaea-bebd-47bb-c782-e7b58bea5833"
      },
      "execution_count": 43,
      "outputs": [
        {
          "output_type": "stream",
          "name": "stdout",
          "text": [
            "la ville la plus à l’est : ['Rabat', 3, 6]\n"
          ]
        }
      ]
    }
  ]
}