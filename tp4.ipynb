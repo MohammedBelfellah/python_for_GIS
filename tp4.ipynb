{
 "cells": [
  {
   "cell_type": "markdown",
   "id": "77d5b7d5",
   "metadata": {},
   "source": [
    "                            <!-- Traitement de Messages sur les Réseaux Sociaux\n",
    "                            Manipulation et transformation de texte -->"
   ]
  },
  {
   "cell_type": "code",
   "execution_count": null,
   "metadata": {},
   "outputs": [
    {
     "data": {
      "text/plain": [
       "' ! suot a ruojnoB'"
      ]
     },
     "execution_count": 3,
     "metadata": {},
     "output_type": "execute_result"
    }
   ],
   "source": [
    "# 1. Inverser un message\n",
    "# Un utilisateur a envoyé le message suivant : message = \"Bonjour a tous ! \"\n",
    "# Ecrire un script qui crée une nouvelle variable contenant le message inversé (caractéres en ordre inverse).\n",
    "\n",
    "def inverse(msg):\n",
    "    new_msg = \"\"\n",
    "    for c in msg:\n",
    "        new_msg = c + new_msg\n",
    "    return new_msg\n",
    "\n",
    "# test part\n",
    "inverse(\"Bonjour a tous ! \")\n"
   ]
  },
  {
   "cell_type": "code",
   "execution_count": 11,
   "id": "f9d9e7dd",
   "metadata": {},
   "outputs": [
    {
     "name": "stdout",
     "output_type": "stream",
     "text": [
      "6\n"
     ]
    }
   ],
   "source": [
    "new= 19//3\n",
    "print(new)"
   ]
  },
  {
   "cell_type": "code",
   "execution_count": 17,
   "id": "acd16a98",
   "metadata": {},
   "outputs": [
    {
     "name": "stdout",
     "output_type": "stream",
     "text": [
      "part 1 : Python simpli\n",
      "part 2 : fie la vie de\n",
      "part 3 : s programmeurs \n",
      "dans l'ordre inverse:\n"
     ]
    },
    {
     "data": {
      "text/plain": [
       "'ilpmis nohtyPed eiv al eif sruemmargorp s'"
      ]
     },
     "execution_count": 17,
     "metadata": {},
     "output_type": "execute_result"
    }
   ],
   "source": [
    "# 2. Réorganisation d'un tweet\n",
    "# Soit le tweet suivant : tweet = \"Python simplifie la vie des programmeurs \"\n",
    "# Découpez ce tweet en 3 parties de longueurs équivalentes (ou presque), puis réassemblez-les\n",
    "# dans l'ordre inverse.\n",
    "\n",
    "def tweetReorganisation(tweet):\n",
    "    n = len(tweet) // 3\n",
    "    part1= tweet[:n]\n",
    "    part2= tweet[n:n*2]\n",
    "    part3= tweet[n*2:len(tweet)]\n",
    "\n",
    "    # our 3 parties\n",
    "    print(\"part 1 :\",part1)\n",
    "    print(\"part 2 :\",part2)\n",
    "    print(\"part 3 :\",part3)\n",
    "\n",
    "    print(\"dans l'ordre inverse:\")\n",
    "    new_tweet = inverse(part1) + inverse(part2) + inverse(part3)\n",
    "    return new_tweet\n",
    "tweetReorganisation(\"Python simplifie la vie des programmeurs \")"
   ]
  },
  {
   "cell_type": "code",
   "execution_count": 19,
   "id": "d91142de",
   "metadata": {},
   "outputs": [
    {
     "data": {
      "text/plain": [
       "['La', 'programmation', 'Python', 'est', 'amusante']"
      ]
     },
     "execution_count": 19,
     "metadata": {},
     "output_type": "execute_result"
    }
   ],
   "source": [
    "# 3. Transformation en liste de mots\n",
    "# Ecrire une fonction def message21iste(message): qui prend en parametre une chaine de caractéres\n",
    "# et renvoie la liste des mots.\n",
    "\n",
    "# Exemple :\n",
    "# >>> message21iste(\"La programmation Python est amusante\")\n",
    "# ['La', 'programmation', 'Python', 'est', 'amusante']\n",
    "\n",
    "def message21iste(message):\n",
    "    return message.split()\n",
    "\n",
    "message21iste(\"La programmation Python est amusante\")"
   ]
  },
  {
   "cell_type": "code",
   "execution_count": 6,
   "id": "580724bd",
   "metadata": {},
   "outputs": [
    {
     "data": {
      "text/plain": [
       "7"
      ]
     },
     "execution_count": 6,
     "metadata": {},
     "output_type": "execute_result"
    }
   ],
   "source": [
    "# 4. Comptage des majuscules\n",
    "# Ecrire une fonction : def compter_majuscules(message): qui retourne le nombre de lettres\n",
    "# majuscules dans le message.\n",
    "# Exemple •\n",
    "# >>> compter_majuscules(\"Vive le PYTHON !\")\n",
    "# 7\n",
    "\n",
    "\n",
    "def compter_majuscules(message):\n",
    "    total_uppers = 0\n",
    "\n",
    "    for c in message:\n",
    "        if c.isalpha() and c == c.upper(): # isupper()\n",
    "            total_uppers += 1 \n",
    "    return total_uppers  \n",
    "\n",
    "\n",
    "# test\n",
    "compter_majuscules(\"Vive le PYTHON ???\")"
   ]
  },
  {
   "cell_type": "code",
   "execution_count": null,
   "id": "436047d2",
   "metadata": {},
   "outputs": [
    {
     "data": {
      "text/plain": [
       "'bonjour tout le monde'"
      ]
     },
     "execution_count": 12,
     "metadata": {},
     "output_type": "execute_result"
    }
   ],
   "source": [
    "# Analyse et nettoyage\n",
    "# 5. Nettoyage automatique d'un message\n",
    "# Ecrire une fonction : def nettoyer message(message): qui\n",
    "# • supprime les espaces superflus au début et å la fin,\n",
    "# • remplace plusieurs espaces consécutifs par un seul,\n",
    "# • convertit le texte en minuscules.\n",
    "# Exemple :\n",
    "# >>> BONJOUR tout LE MONDE\n",
    "# \"bonjour tout le monde\"\n",
    "\n",
    "def nettoyer_message(message):\n",
    "    msg_no_spaces = message.strip()\n",
    "    replace_spaces = msg_no_spaces.split()\n",
    "    cleaned_message = \" \".join(replace_spaces).lower()\n",
    "    return cleaned_message\n",
    "\n",
    "nettoyer_message(\"      BONJOUR           tout LE                                MONDE\")"
   ]
  },
  {
   "cell_type": "code",
   "execution_count": 57,
   "id": "55767594",
   "metadata": {},
   "outputs": [
    {
     "data": {
      "text/plain": [
       "\"Mentions:  ['@luise', '@fstT']  |  Hashtags: ['#coding', '#python']\""
      ]
     },
     "execution_count": 57,
     "metadata": {},
     "output_type": "execute_result"
    }
   ],
   "source": [
    "# 6. Détection de mentions et hashtags\n",
    "# Ecrire une fonction : def extraire_mentions_hashtags(message): qui renvoie deux listes :\n",
    "# • une liste de toutes les mentions (mots commenqant par @)\n",
    "# • une liste de tous les hashtags (mots commenqant par #)\n",
    "\n",
    "# Exemple :\n",
    "# >>> extraire_mentions_hashtags(\"Merci @userl pour ton aide ! #Python #Coding\")\n",
    "# Mentions : ['@userl']\n",
    "# Hashtags : ['#Python', '#Coding']\n",
    "\n",
    "def extraire_mentions_hashtags(message):\n",
    "    Mentions =[]\n",
    "    Hashtags = []\n",
    "\n",
    "    message_as_list = message.split()\n",
    "    for ele in message_as_list :\n",
    "        if ele[0] ==\"@\":\n",
    "            Mentions.append(ele)\n",
    "        elif ele[0] == \"#\":\n",
    "            Hashtags.append(ele)\n",
    "\n",
    "    return f\"Mentions:  {Mentions}  |  Hashtags: {Hashtags}\"\n",
    "    \n",
    "\n",
    "extraire_mentions_hashtags(\"this is @luise here #coding #python @fstT\")"
   ]
  },
  {
   "cell_type": "code",
   "execution_count": null,
   "id": "a7857224",
   "metadata": {},
   "outputs": [
    {
     "data": {
      "text/plain": [
       "False"
      ]
     },
     "execution_count": 60,
     "metadata": {},
     "output_type": "execute_result"
    }
   ],
   "source": [
    "# 7. Détection d'un mot-clé interdit\n",
    "# Ecrire une fonction : def contient mot interdit(message, mot interdit): qui renvoie True si le\n",
    "# message contient le mot interdit, sinon False.\n",
    "# La recherche doit étre insensible la casse.\n",
    "# Exemple :\n",
    "# >>> contient mot interdit(\"Ce produit est nul !\", \"nul\")\n",
    "# True\n",
    "\n",
    "def contient_mot_interdit(message, mot_interdit):\n",
    "    for mot in message.split() :\n",
    "        if mot.lower() == mot_interdit.lower():\n",
    "            return True\n",
    "    return False\n",
    "\n",
    "# test\n",
    "contient_mot_interdit(\"Ce produit est nul !\", \"bata\")"
   ]
  },
  {
   "cell_type": "code",
   "execution_count": 72,
   "id": "c6e84670",
   "metadata": {},
   "outputs": [
    {
     "data": {
      "text/plain": [
       "'Ce produit est nul, vraiment *** !'"
      ]
     },
     "execution_count": 72,
     "metadata": {},
     "output_type": "execute_result"
    }
   ],
   "source": [
    "# 8. Censure automatique\n",
    "# Ecrire une fonction : defcensurer(message, mot_interdit): qui remplace toutes les occurrences du\n",
    "# mot interdit par des astérisques (*).\n",
    "# Exemple :\n",
    "# >>> censurer(\"Ce produit est nul, vraiment nul !\", \"nul\")\n",
    "# \"Ce produit est *** vraiment\"\n",
    "\n",
    "def censurer(message, mot_interdit):\n",
    "    new_list = []\n",
    "    for ele in message.split():\n",
    "        if ele.lower() == mot_interdit.lower():\n",
    "            new_list.append(\"*\" * len(ele))\n",
    "        else:\n",
    "            new_list.append(ele)\n",
    "    return \" \".join(new_list)\n",
    "\n",
    "censurer(\"Ce produit est nul, vraiment nul !\", \"nul\")"
   ]
  },
  {
   "cell_type": "code",
   "execution_count": 3,
   "id": "5833635f",
   "metadata": {},
   "outputs": [
    {
     "data": {
      "text/plain": [
       "'en'"
      ]
     },
     "execution_count": 3,
     "metadata": {},
     "output_type": "execute_result"
    }
   ],
   "source": [
    "# 9. Détection de langue simple (frangais/anglais)\n",
    "# Créer une fonction : def detecter_langue (message) :\n",
    "# La fonction :\n",
    "# • convertit le message en minuscules,\n",
    "# • compte le nombre de mots appartenant a une petite liste francaise et anglaise,\n",
    "# • renvoie \" fr\" ou \"en \" selon la langue dominante.\n",
    "\n",
    "# >>> detecter_langue(\"l love Python programming\")\n",
    "# 'en'\n",
    "# >>> detecter_langue(\"J'aime la programmation Python\")\n",
    "# 'fr'\n",
    "\n",
    "def detecter_langue_optimized(message):\n",
    "    mots_fr = {\"bonjour\", \"je\", \"suis\", \"la\", \"le\", \"et\", \"de\", \"un\", \"une\", \"aime\"}\n",
    "    mots_en = {\"hello\", \"i\", \"am\", \"the\", \"and\", \"of\", \"a\", \"love\", \"our\", \"programming\"}\n",
    "    \n",
    "    words = set(message.lower().split())\n",
    "    F = len(words & mots_fr)  # Count French words\n",
    "    E = len(words & mots_en)  # Count English words\n",
    "    \n",
    "    if E > F:\n",
    "        return 'en'\n",
    "    elif F > E:\n",
    "        return 'fr'\n",
    "    else:\n",
    "        return 'donne auter message'\n",
    "\n",
    "# Example usage:\n",
    "detecter_langue_optimized(\"i love our cars\")\n"
   ]
  },
  {
   "cell_type": "code",
   "execution_count": 4,
   "id": "9416498a",
   "metadata": {},
   "outputs": [
    {
     "data": {
      "text/plain": [
       "8.33"
      ]
     },
     "execution_count": 4,
     "metadata": {},
     "output_type": "execute_result"
    }
   ],
   "source": [
    "# 10. Que fait la fonction\n",
    "\n",
    "# Cette fonction calcule la similarité entre deux messages en pourcentage, basée sur les mots communs.\n",
    "def similarite_messages(msg1, msg2):\n",
    "    mots1 = set(msg1.lower().split())  # Convertit le premier message en minuscules et en ensemble de mots uniques.\n",
    "    mots2 = set(msg2.lower().split())  # Convertit le deuxième message en minuscules et en ensemble de mots uniques.\n",
    "\n",
    "    # print(\"mote 1:\",mots1)\n",
    "    # print(\"mote 2:\",mots2)\n",
    "\n",
    "    communs = mots1.intersection(mots2)  # Trouve les mots communs entre les deux ensembles.\n",
    "    total = mots1.union(mots2)  # Trouve l'ensemble de tous les mots uniques des deux messages.\n",
    "    \n",
    "    score = (len(communs) / len(total)) * 100  # Calcule le pourcentage de similarité.\n",
    "    return round(score, 2)  # Arrondit le score à deux décimales.\n",
    "\n",
    "similarite_messages(\"i am luise \",\"bmw say i have heve the best car out thier\")"
   ]
  }
 ],
 "metadata": {
  "kernelspec": {
   "display_name": "Python 3",
   "language": "python",
   "name": "python3"
  },
  "language_info": {
   "codemirror_mode": {
    "name": "ipython",
    "version": 3
   },
   "file_extension": ".py",
   "mimetype": "text/x-python",
   "name": "python",
   "nbconvert_exporter": "python",
   "pygments_lexer": "ipython3",
   "version": "3.13.0"
  }
 },
 "nbformat": 4,
 "nbformat_minor": 5
}
