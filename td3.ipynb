{
 "cells": [
  {
   "cell_type": "code",
   "execution_count": null,
   "id": "85cf9d11",
   "metadata": {},
   "outputs": [
    {
     "data": {
      "text/plain": [
       "True"
      ]
     },
     "execution_count": 2,
     "metadata": {},
     "output_type": "execute_result"
    }
   ],
   "source": [
    "                                            # Pr. Ouafae EL BOUHADI TD – Python\n",
    "                                            # TD 3 : Les fonctions\n",
    "\n",
    "# Exercice 1 :\n",
    "# 1. Ecrire une fonction « fct_1 » qui étant donné une liste A et un objet x renvoie True, si\n",
    "# x est un élément de la liste.\n",
    "\n",
    "\n",
    "def fct_1(x,L):\n",
    "    return True if x in L else False\n",
    "\n",
    "maList = [2,\"232\",1]\n",
    "fct_1(2,maList)\n"
   ]
  },
  {
   "cell_type": "code",
   "execution_count": 11,
   "id": "35541ffd",
   "metadata": {},
   "outputs": [
    {
     "name": "stdout",
     "output_type": "stream",
     "text": [
      "5\n"
     ]
    }
   ],
   "source": [
    "# Exercice 2 :\n",
    "# 1. Ecrire une fonction « max_nbr » qui étant donné deux entiers renvoie leur\n",
    "# valeur maximale.\n",
    "\n",
    "def max_nbr(num1, num2):\n",
    "    maMax = num1 if num1 > num2 else num2\n",
    "    return maMax\n",
    "    \n",
    "print(max_nbr(3,5))\n"
   ]
  },
  {
   "cell_type": "code",
   "execution_count": 7,
   "id": "5b544f39",
   "metadata": {},
   "outputs": [
    {
     "data": {
      "text/plain": [
       "999999"
      ]
     },
     "execution_count": 7,
     "metadata": {},
     "output_type": "execute_result"
    }
   ],
   "source": [
    "# 2. Ecrire une fonction « max_liste » qui étant donnée une liste non vide d’entiers\n",
    "# renvoie leur valeur maximale.\n",
    "def max_liste(L):\n",
    "    if L != [] :\n",
    "        maxOfList = L[0]\n",
    "        for ele in range(len(L)):\n",
    "            if L[ele] > maxOfList :\n",
    "                maxOfList = L[ele]\n",
    "        return maxOfList\n",
    "newList = [2,34,4545,999999]\n",
    "max_liste(newList)"
   ]
  },
  {
   "cell_type": "code",
   "execution_count": 16,
   "id": "6a891628",
   "metadata": {},
   "outputs": [
    {
     "name": "stdout",
     "output_type": "stream",
     "text": [
      "4.0\n"
     ]
    }
   ],
   "source": [
    "# Exercice3 :\n",
    "# Créer une fonction « puissance_SPSR » qui affiche x^n avec x un nombre réel et \n",
    "# n un nombre entier qui caractérise l’exposant : x et n doivent être demandés à \n",
    "# l’utilisateur.\n",
    "\n",
    "def puissance_SPSR():\n",
    "    X = float(input(\"donne la valuer de X :\"))\n",
    "    n = int(input(\"donne la valuer de l’exposant: \"))\n",
    "    print(X**n)\n",
    "puissance_SPSR()"
   ]
  },
  {
   "cell_type": "code",
   "execution_count": null,
   "id": "3b5101c4",
   "metadata": {},
   "outputs": [],
   "source": [
    "# Exercice4 : \n",
    "# 1. Écrire une fonction « cube » qui retourne le cube de son argument. \n",
    "def cub(cubedNnm):\n",
    "    return cubedNnm ** 3"
   ]
  },
  {
   "cell_type": "code",
   "execution_count": null,
   "id": "858f0af1",
   "metadata": {},
   "outputs": [
    {
     "name": "stdout",
     "output_type": "stream",
     "text": [
      "num EST distinct\n"
     ]
    }
   ],
   "source": [
    "# Exercice 5 :\n",
    "\n",
    "def estDistincts( num):\n",
    "    # V1\n",
    "\n",
    "    # my_num = [int(d) for d in str(num) ]\n",
    "    # my_set = set(my_num)\n",
    "    # if len(my_num) == len(my_set):\n",
    "    #     print(\"distict\")\n",
    "    # else:\n",
    "    #     print(\"not ditanct\")\n",
    "\n",
    "\n",
    "    # V2\n",
    "\n",
    "    my_num = [int(d) for d in str(num) ]\n",
    "    my_unique_list = []\n",
    "    for ele in my_num:\n",
    "        if ele not in my_unique_list:\n",
    "            my_unique_list.append(ele)\n",
    "    if len(my_unique_list) == len(str(num)):\n",
    "        print(\"cet entier est distinct \")\n",
    "    else:\n",
    "        print(\"cet entier est non distinct \")\n",
    "\n",
    "\n",
    "\n",
    "estDistincts(1234567)"
   ]
  }
 ],
 "metadata": {
  "kernelspec": {
   "display_name": "Python 3",
   "language": "python",
   "name": "python3"
  },
  "language_info": {
   "codemirror_mode": {
    "name": "ipython",
    "version": 3
   },
   "file_extension": ".py",
   "mimetype": "text/x-python",
   "name": "python",
   "nbconvert_exporter": "python",
   "pygments_lexer": "ipython3",
   "version": "3.13.0"
  }
 },
 "nbformat": 4,
 "nbformat_minor": 5
}
